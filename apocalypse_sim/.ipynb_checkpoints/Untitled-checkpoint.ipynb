{
 "cells": [
  {
   "cell_type": "code",
   "execution_count": null,
   "metadata": {},
   "outputs": [
    {
     "name": "stderr",
     "output_type": "stream",
     "text": [
      "/home/mund/.local/lib/python2.7/site-packages/pandas/core/indexing.py:1472: FutureWarning: \n",
      "Passing list-likes to .loc or [] with any missing label will raise\n",
      "KeyError in the future, you can use .reindex() as an alternative.\n",
      "\n",
      "See the documentation here:\n",
      "https://pandas.pydata.org/pandas-docs/stable/indexing.html#deprecate-loc-reindex-listlike\n",
      "  return self._getitem_tuple(key)\n"
     ]
    }
   ],
   "source": [
    "import json\n",
    "from collections import defaultdict\n",
    "import pandas as pd\n",
    "series = defaultdict(list)\n",
    "serie = pd.DataFrame(columns=['step', 'percentage of infected', 'density', 'incubation time'])\n",
    "with open('series.json') as json_file:\n",
    "    data = json.load(json_file)\n",
    "    for item in data:\n",
    "        series = item['data']\n",
    "        density = item['density']\n",
    "        incubation = item['incubation_time']\n",
    "        for i, x in enumerate(series):\n",
    "            p = (x[1] + x[2]) / x[0]\n",
    "            serie = serie.append([i, p, density, incubation])\n",
    "serie"
   ]
  },
  {
   "cell_type": "code",
   "execution_count": null,
   "metadata": {},
   "outputs": [],
   "source": [
    "import sns\n",
    "sns.lineplot(x=\"step\", y=\"percentage of zombies\",\n",
    "                  hue=\"density\", style=\"incubation time\",\n",
    "                  markers=True, dashes=False, data=serie)"
   ]
  }
 ],
 "metadata": {
  "kernelspec": {
   "display_name": "Python 3",
   "language": "python",
   "name": "python3"
  },
  "language_info": {
   "codemirror_mode": {
    "name": "ipython",
    "version": 2
   },
   "file_extension": ".py",
   "mimetype": "text/x-python",
   "name": "python",
   "nbconvert_exporter": "python",
   "pygments_lexer": "ipython2",
   "version": "2.7.15+"
  }
 },
 "nbformat": 4,
 "nbformat_minor": 2
}
